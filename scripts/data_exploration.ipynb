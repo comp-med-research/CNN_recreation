{
 "cells": [
  {
   "cell_type": "code",
   "execution_count": 1,
   "id": "1371d881-6889-44b8-a41a-8c1c8a1687cc",
   "metadata": {},
   "outputs": [],
   "source": [
    "import pandas as pd "
   ]
  },
  {
   "cell_type": "code",
   "execution_count": 3,
   "id": "df23b101-c47c-4234-ba80-f1edea919a52",
   "metadata": {},
   "outputs": [],
   "source": [
    "# read in cohort\n",
    "df = pd.read_csv(\"./data/ADNI1_Complete_3Yr_1.5T_6_11_2025.csv\")"
   ]
  },
  {
   "cell_type": "code",
   "execution_count": 4,
   "id": "9f97f938-712b-45e4-ae1e-c2fe28aa3721",
   "metadata": {},
   "outputs": [
    {
     "data": {
      "text/html": [
       "<div>\n",
       "<style scoped>\n",
       "    .dataframe tbody tr th:only-of-type {\n",
       "        vertical-align: middle;\n",
       "    }\n",
       "\n",
       "    .dataframe tbody tr th {\n",
       "        vertical-align: top;\n",
       "    }\n",
       "\n",
       "    .dataframe thead th {\n",
       "        text-align: right;\n",
       "    }\n",
       "</style>\n",
       "<table border=\"1\" class=\"dataframe\">\n",
       "  <thead>\n",
       "    <tr style=\"text-align: right;\">\n",
       "      <th></th>\n",
       "      <th>Image Data ID</th>\n",
       "      <th>Subject</th>\n",
       "      <th>Group</th>\n",
       "      <th>Sex</th>\n",
       "      <th>Age</th>\n",
       "      <th>Visit</th>\n",
       "      <th>Modality</th>\n",
       "      <th>Description</th>\n",
       "      <th>Type</th>\n",
       "      <th>Acq Date</th>\n",
       "      <th>Format</th>\n",
       "      <th>Downloaded</th>\n",
       "    </tr>\n",
       "  </thead>\n",
       "  <tbody>\n",
       "    <tr>\n",
       "      <th>0</th>\n",
       "      <td>I63874</td>\n",
       "      <td>941_S_1202</td>\n",
       "      <td>CN</td>\n",
       "      <td>M</td>\n",
       "      <td>78</td>\n",
       "      <td>sc</td>\n",
       "      <td>MRI</td>\n",
       "      <td>MPR-R; GradWarp; B1 Correction; N3; Scaled</td>\n",
       "      <td>Processed</td>\n",
       "      <td>1/30/2007</td>\n",
       "      <td>NiFTI</td>\n",
       "      <td>6/11/2025</td>\n",
       "    </tr>\n",
       "    <tr>\n",
       "      <th>1</th>\n",
       "      <td>I204843</td>\n",
       "      <td>941_S_1202</td>\n",
       "      <td>CN</td>\n",
       "      <td>M</td>\n",
       "      <td>81</td>\n",
       "      <td>m36</td>\n",
       "      <td>MRI</td>\n",
       "      <td>MPR; GradWarp; B1 Correction; N3; Scaled</td>\n",
       "      <td>Processed</td>\n",
       "      <td>3/14/2010</td>\n",
       "      <td>NiFTI</td>\n",
       "      <td>6/11/2025</td>\n",
       "    </tr>\n",
       "    <tr>\n",
       "      <th>2</th>\n",
       "      <td>I137298</td>\n",
       "      <td>941_S_1202</td>\n",
       "      <td>CN</td>\n",
       "      <td>M</td>\n",
       "      <td>80</td>\n",
       "      <td>m24</td>\n",
       "      <td>MRI</td>\n",
       "      <td>MPR; GradWarp; B1 Correction; N3; Scaled</td>\n",
       "      <td>Processed</td>\n",
       "      <td>2/17/2009</td>\n",
       "      <td>NiFTI</td>\n",
       "      <td>NaN</td>\n",
       "    </tr>\n",
       "    <tr>\n",
       "      <th>3</th>\n",
       "      <td>I75150</td>\n",
       "      <td>941_S_1202</td>\n",
       "      <td>CN</td>\n",
       "      <td>M</td>\n",
       "      <td>78</td>\n",
       "      <td>m06</td>\n",
       "      <td>MRI</td>\n",
       "      <td>MPR; GradWarp; B1 Correction; N3; Scaled</td>\n",
       "      <td>Processed</td>\n",
       "      <td>8/24/2007</td>\n",
       "      <td>NiFTI</td>\n",
       "      <td>NaN</td>\n",
       "    </tr>\n",
       "    <tr>\n",
       "      <th>4</th>\n",
       "      <td>I105437</td>\n",
       "      <td>941_S_1202</td>\n",
       "      <td>CN</td>\n",
       "      <td>M</td>\n",
       "      <td>79</td>\n",
       "      <td>m12</td>\n",
       "      <td>MRI</td>\n",
       "      <td>MPR; GradWarp; B1 Correction; N3; Scaled</td>\n",
       "      <td>Processed</td>\n",
       "      <td>2/28/2008</td>\n",
       "      <td>NiFTI</td>\n",
       "      <td>6/11/2025</td>\n",
       "    </tr>\n",
       "  </tbody>\n",
       "</table>\n",
       "</div>"
      ],
      "text/plain": [
       "  Image Data ID     Subject Group Sex  Age Visit Modality  \\\n",
       "0        I63874  941_S_1202    CN   M   78    sc      MRI   \n",
       "1       I204843  941_S_1202    CN   M   81   m36      MRI   \n",
       "2       I137298  941_S_1202    CN   M   80   m24      MRI   \n",
       "3        I75150  941_S_1202    CN   M   78   m06      MRI   \n",
       "4       I105437  941_S_1202    CN   M   79   m12      MRI   \n",
       "\n",
       "                                  Description       Type   Acq Date Format  \\\n",
       "0  MPR-R; GradWarp; B1 Correction; N3; Scaled  Processed  1/30/2007  NiFTI   \n",
       "1    MPR; GradWarp; B1 Correction; N3; Scaled  Processed  3/14/2010  NiFTI   \n",
       "2    MPR; GradWarp; B1 Correction; N3; Scaled  Processed  2/17/2009  NiFTI   \n",
       "3    MPR; GradWarp; B1 Correction; N3; Scaled  Processed  8/24/2007  NiFTI   \n",
       "4    MPR; GradWarp; B1 Correction; N3; Scaled  Processed  2/28/2008  NiFTI   \n",
       "\n",
       "  Downloaded  \n",
       "0  6/11/2025  \n",
       "1  6/11/2025  \n",
       "2        NaN  \n",
       "3        NaN  \n",
       "4  6/11/2025  "
      ]
     },
     "execution_count": 4,
     "metadata": {},
     "output_type": "execute_result"
    }
   ],
   "source": [
    "df.head()"
   ]
  },
  {
   "cell_type": "code",
   "execution_count": 5,
   "id": "39abfc3d-0011-4db0-87bc-4e7728100efc",
   "metadata": {},
   "outputs": [
    {
     "name": "stdout",
     "output_type": "stream",
     "text": [
      "2182\n"
     ]
    }
   ],
   "source": [
    "print(len(df)) # 2182 "
   ]
  },
  {
   "cell_type": "code",
   "execution_count": 12,
   "id": "17f9b361-1a24-4931-a824-38d35abeff68",
   "metadata": {},
   "outputs": [
    {
     "name": "stdout",
     "output_type": "stream",
     "text": [
      "382\n"
     ]
    }
   ],
   "source": [
    "# num of unique subject ids\n",
    "print(len(df['Subject'].unique())) #382"
   ]
  },
  {
   "cell_type": "code",
   "execution_count": 13,
   "id": "8b59c71c-4ca6-40c6-b990-80b677dd3d17",
   "metadata": {},
   "outputs": [
    {
     "name": "stdout",
     "output_type": "stream",
     "text": [
      "['M' 'F']\n"
     ]
    }
   ],
   "source": [
    "#unique values for sex\n",
    "print(df['Sex'].unique()) # just M and F"
   ]
  },
  {
   "cell_type": "code",
   "execution_count": 14,
   "id": "b651c6aa-7dc3-4fc5-9767-3747dfeffb44",
   "metadata": {},
   "outputs": [
    {
     "name": "stdout",
     "output_type": "stream",
     "text": [
      "['CN' 'MCI' 'AD']\n"
     ]
    }
   ],
   "source": [
    "#unique values for group\n",
    "print(df['Group'].unique()) # just CN, MCI and AD"
   ]
  },
  {
   "cell_type": "code",
   "execution_count": 15,
   "id": "76bacd02-362e-41de-8df3-a3a8ffe43069",
   "metadata": {},
   "outputs": [
    {
     "name": "stdout",
     "output_type": "stream",
     "text": [
      "['MRI']\n"
     ]
    }
   ],
   "source": [
    "#unique values for modality\n",
    "print(df['Modality'].unique()) # just MRI"
   ]
  },
  {
   "cell_type": "code",
   "execution_count": 16,
   "id": "64ec5c1e-0d2b-4f90-b15a-5627334441da",
   "metadata": {},
   "outputs": [
    {
     "name": "stdout",
     "output_type": "stream",
     "text": [
      "['Processed']\n"
     ]
    }
   ],
   "source": [
    "#unique values for type\n",
    "print(df['Type'].unique()) # just Processed"
   ]
  },
  {
   "cell_type": "code",
   "execution_count": 17,
   "id": "4f880b1e-c610-4427-98ba-43875a97361e",
   "metadata": {},
   "outputs": [
    {
     "name": "stdout",
     "output_type": "stream",
     "text": [
      "['NiFTI']\n"
     ]
    }
   ],
   "source": [
    "#unique values for format\n",
    "print(df['Format'].unique()) # just NiFTI"
   ]
  },
  {
   "cell_type": "code",
   "execution_count": 21,
   "id": "24f403ae-fdbd-48e8-8bf4-42c63bc19565",
   "metadata": {},
   "outputs": [
    {
     "data": {
      "text/html": [
       "<div>\n",
       "<style scoped>\n",
       "    .dataframe tbody tr th:only-of-type {\n",
       "        vertical-align: middle;\n",
       "    }\n",
       "\n",
       "    .dataframe tbody tr th {\n",
       "        vertical-align: top;\n",
       "    }\n",
       "\n",
       "    .dataframe thead th {\n",
       "        text-align: right;\n",
       "    }\n",
       "</style>\n",
       "<table border=\"1\" class=\"dataframe\">\n",
       "  <thead>\n",
       "    <tr style=\"text-align: right;\">\n",
       "      <th></th>\n",
       "      <th>count</th>\n",
       "      <th>percentage</th>\n",
       "    </tr>\n",
       "    <tr>\n",
       "      <th>Sex</th>\n",
       "      <th></th>\n",
       "      <th></th>\n",
       "    </tr>\n",
       "  </thead>\n",
       "  <tbody>\n",
       "    <tr>\n",
       "      <th>M</th>\n",
       "      <td>1279</td>\n",
       "      <td>58.6%</td>\n",
       "    </tr>\n",
       "    <tr>\n",
       "      <th>F</th>\n",
       "      <td>903</td>\n",
       "      <td>41.4%</td>\n",
       "    </tr>\n",
       "  </tbody>\n",
       "</table>\n",
       "</div>"
      ],
      "text/plain": [
       "     count percentage\n",
       "Sex                  \n",
       "M     1279      58.6%\n",
       "F      903      41.4%"
      ]
     },
     "execution_count": 21,
     "metadata": {},
     "output_type": "execute_result"
    }
   ],
   "source": [
    "# number of men and women, raw and %\n",
    "counts = df['Sex'].value_counts()\n",
    "#count occurrence of each value in 'Sex' column as percentage of total\n",
    "percs = df.Sex.value_counts(normalize=True).mul(100).round(1).astype(str) + '%'\n",
    "pd.concat([counts,percs], axis=1, keys=['count', 'percentage'])"
   ]
  },
  {
   "cell_type": "code",
   "execution_count": 18,
   "id": "4f1e5aca-84a5-4858-b62a-d7a32b7f251f",
   "metadata": {},
   "outputs": [
    {
     "data": {
      "text/plain": [
       "count    2182.000000\n",
       "mean       76.225023\n",
       "std         6.803070\n",
       "min        55.000000\n",
       "25%        72.250000\n",
       "50%        76.000000\n",
       "75%        81.000000\n",
       "max        93.000000\n",
       "Name: Age, dtype: float64"
      ]
     },
     "execution_count": 18,
     "metadata": {},
     "output_type": "execute_result"
    }
   ],
   "source": [
    "# distribution of ages\n",
    "df[\"Age\"].describe()"
   ]
  },
  {
   "cell_type": "code",
   "execution_count": 23,
   "id": "44b872d6-91cd-471f-bcd9-ff1748091b95",
   "metadata": {},
   "outputs": [
    {
     "data": {
      "text/plain": [
       "array([[<Axes: title={'center': 'Age'}>]], dtype=object)"
      ]
     },
     "execution_count": 23,
     "metadata": {},
     "output_type": "execute_result"
    },
    {
     "data": {
      "image/png": "[encoded data removed]",
      "text/plain": [
       "<Figure size 640x480 with 1 Axes>"
      ]
     },
     "metadata": {},
     "output_type": "display_data"
    }
   ],
   "source": [
    "df.hist(column = \"Age\") "
   ]
  },
  {
   "cell_type": "code",
   "execution_count": 24,
   "id": "e56edb96-cc42-4c7e-afa9-14a8ef8f75f3",
   "metadata": {},
   "outputs": [
    {
     "data": {
      "text/plain": [
       "Image Data ID       0\n",
       "Subject             0\n",
       "Group               0\n",
       "Sex                 0\n",
       "Age                 0\n",
       "Visit               0\n",
       "Modality            0\n",
       "Description         0\n",
       "Type                0\n",
       "Acq Date            0\n",
       "Format              0\n",
       "Downloaded       2179\n",
       "dtype: int64"
      ]
     },
     "execution_count": 24,
     "metadata": {},
     "output_type": "execute_result"
    }
   ],
   "source": [
    "df.isna().sum()"
   ]
  },
  {
   "cell_type": "code",
   "execution_count": null,
   "id": "e5f8a384-c6e2-4bc6-9733-aaabc920e9c7",
   "metadata": {},
   "outputs": [],
   "source": []
  }
 ],
 "metadata": {
  "kernelspec": {
   "display_name": "Python 3 (ipykernel)",
   "language": "python",
   "name": "python3"
  },
  "language_info": {
   "codemirror_mode": {
    "name": "ipython",
    "version": 3
   },
   "file_extension": ".py",
   "mimetype": "text/x-python",
   "name": "python",
   "nbconvert_exporter": "python",
   "pygments_lexer": "ipython3",
   "version": "3.11.13"
  }
 },
 "nbformat": 4,
 "nbformat_minor": 5
}
